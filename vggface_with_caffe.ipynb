{
 "cells": [
  {
   "cell_type": "code",
   "execution_count": 1,
   "metadata": {},
   "outputs": [
    {
     "name": "stderr",
     "output_type": "stream",
     "text": [
      "/usr/local/lib/python2.7/dist-packages/matplotlib/__init__.py:1067: UserWarning: Duplicate key in file \"/home/ubuntu/.config/matplotlib/matplotlibrc\", line #2\n",
      "  (fname, cnt))\n",
      "/usr/local/lib/python2.7/dist-packages/matplotlib/__init__.py:1067: UserWarning: Duplicate key in file \"/home/ubuntu/.config/matplotlib/matplotlibrc\", line #3\n",
      "  (fname, cnt))\n"
     ]
    }
   ],
   "source": [
    "import caffe\n",
    "import numpy as np\n",
    "\n",
    "weights_file = 'caffe_model/senet50_ft_caffe/senet50_ft.caffemodel'\n",
    "model_file = 'caffe_model/senet50_ft_caffe/senet50_ft.prototxt'\n",
    "\n",
    "caffe.set_mode_gpu()\n",
    "net = caffe.Net(model_file, weights_file, caffe.TEST)\n",
    "\n",
    "# create transformer for the input called 'data'\n",
    "mu = np.array([91.4953, 103.8827, 131.0912])\n",
    "\n",
    "transformer = caffe.io.Transformer({'data': net.blobs['data'].data.shape})\n",
    "\n",
    "transformer.set_transpose('data', (2,0,1))  # move image channels to outermost dimension\n",
    "transformer.set_mean('data', mu)            # subtract the dataset-mean value in each channel\n",
    "transformer.set_raw_scale('data', 255)      # rescale from [0, 1] to [0, 255]\n",
    "transformer.set_channel_swap('data', (2,1,0))  # swap channels from RGB to BGR"
   ]
  },
  {
   "cell_type": "code",
   "execution_count": 2,
   "metadata": {},
   "outputs": [
    {
     "name": "stdout",
     "output_type": "stream",
     "text": [
      "[3.5884723e-10 1.1100573e-06 9.8938960e-01 ... 6.0859795e-10 6.0564540e-09\n",
      " 1.7843936e-09]\n",
      "predicted class is: 2\n"
     ]
    }
   ],
   "source": [
    "image = caffe.io.load_image('keras-vggface/image/ajb.jpg')\n",
    "transformed_image = transformer.preprocess('data', image)\n",
    "net.blobs['data'].data[...] = transformed_image\n",
    "\n",
    "output = net.forward()\n",
    "output_prob = output['prob'][0]  # the output probability vector for the first image in the batch\n",
    "\n",
    "print (output_prob)\n",
    "\n",
    "print 'predicted class is:', output_prob.argmax()"
   ]
  }
 ],
 "metadata": {
  "kernelspec": {
   "display_name": "Python 2",
   "language": "python",
   "name": "python2"
  },
  "language_info": {
   "codemirror_mode": {
    "name": "ipython",
    "version": 2
   },
   "file_extension": ".py",
   "mimetype": "text/x-python",
   "name": "python",
   "nbconvert_exporter": "python",
   "pygments_lexer": "ipython2",
   "version": "2.7.12"
  }
 },
 "nbformat": 4,
 "nbformat_minor": 2
}
